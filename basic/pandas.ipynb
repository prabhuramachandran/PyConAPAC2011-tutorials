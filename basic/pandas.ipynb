{
 "metadata": {
  "name": "pandas.ipynb"
 },
 "nbformat": 3,
 "nbformat_minor": 0,
 "worksheets": [
  {
   "cells": [
    {
     "cell_type": "heading",
     "level": 1,
     "metadata": {},
     "source": [
      "Other useful toolkits"
     ]
    },
    {
     "cell_type": "heading",
     "level": 2,
     "metadata": {},
     "source": [
      "Pandas"
     ]
    },
    {
     "cell_type": "markdown",
     "metadata": {},
     "source": [
      " * Builds on top of numpy\n",
      " * Labelled axes\n",
      " * Built-in time series management\n",
      " * Data alignment, merging etc.\n",
      " * Statistical tools\n",
      " * http://pandas.pydata.org"
     ]
    },
    {
     "cell_type": "code",
     "collapsed": false,
     "input": [
      "import pandas as pd\n",
      "import numpy as np"
     ],
     "language": "python",
     "metadata": {},
     "outputs": [],
     "prompt_number": 1
    },
    {
     "cell_type": "code",
     "collapsed": false,
     "input": [
      "# Create some dates\n",
      "periods = 10\n",
      "dates = pd.date_range('20130101', periods=periods)\n",
      "dates"
     ],
     "language": "python",
     "metadata": {},
     "outputs": [
      {
       "output_type": "pyout",
       "prompt_number": 2,
       "text": [
        "<class 'pandas.tseries.index.DatetimeIndex'>\n",
        "[2013-01-01 00:00:00, ..., 2013-01-10 00:00:00]\n",
        "Length: 10, Freq: D, Timezone: None"
       ]
      }
     ],
     "prompt_number": 2
    },
    {
     "cell_type": "code",
     "collapsed": false,
     "input": [
      "df = pd.DataFrame(np.random.randn(periods,4),index=dates,columns=list('ABCD'))\n"
     ],
     "language": "python",
     "metadata": {},
     "outputs": [],
     "prompt_number": 3
    },
    {
     "cell_type": "code",
     "collapsed": false,
     "input": [
      "df.describe()"
     ],
     "language": "python",
     "metadata": {},
     "outputs": [
      {
       "html": [
        "<div style=\"max-height:1000px;max-width:1500px;overflow:auto;\">\n",
        "<table border=\"1\" class=\"dataframe\">\n",
        "  <thead>\n",
        "    <tr style=\"text-align: right;\">\n",
        "      <th></th>\n",
        "      <th>A</th>\n",
        "      <th>B</th>\n",
        "      <th>C</th>\n",
        "      <th>D</th>\n",
        "    </tr>\n",
        "  </thead>\n",
        "  <tbody>\n",
        "    <tr>\n",
        "      <th>count</th>\n",
        "      <td> 10.000000</td>\n",
        "      <td> 10.000000</td>\n",
        "      <td> 10.000000</td>\n",
        "      <td> 10.000000</td>\n",
        "    </tr>\n",
        "    <tr>\n",
        "      <th>mean</th>\n",
        "      <td>  0.217333</td>\n",
        "      <td> -0.228507</td>\n",
        "      <td> -0.359507</td>\n",
        "      <td>  0.570384</td>\n",
        "    </tr>\n",
        "    <tr>\n",
        "      <th>std</th>\n",
        "      <td>  0.921869</td>\n",
        "      <td>  1.408728</td>\n",
        "      <td>  0.544064</td>\n",
        "      <td>  1.135067</td>\n",
        "    </tr>\n",
        "    <tr>\n",
        "      <th>min</th>\n",
        "      <td> -0.609431</td>\n",
        "      <td> -2.562772</td>\n",
        "      <td> -1.031559</td>\n",
        "      <td> -1.105214</td>\n",
        "    </tr>\n",
        "    <tr>\n",
        "      <th>25%</th>\n",
        "      <td> -0.516540</td>\n",
        "      <td> -1.278546</td>\n",
        "      <td> -0.711475</td>\n",
        "      <td>  0.056962</td>\n",
        "    </tr>\n",
        "    <tr>\n",
        "      <th>50%</th>\n",
        "      <td> -0.281634</td>\n",
        "      <td>  0.113618</td>\n",
        "      <td> -0.437548</td>\n",
        "      <td>  0.704941</td>\n",
        "    </tr>\n",
        "    <tr>\n",
        "      <th>75%</th>\n",
        "      <td>  0.918297</td>\n",
        "      <td>  0.879528</td>\n",
        "      <td> -0.325526</td>\n",
        "      <td>  1.022107</td>\n",
        "    </tr>\n",
        "    <tr>\n",
        "      <th>max</th>\n",
        "      <td>  1.953887</td>\n",
        "      <td>  1.230298</td>\n",
        "      <td>  0.821051</td>\n",
        "      <td>  2.823595</td>\n",
        "    </tr>\n",
        "  </tbody>\n",
        "</table>\n",
        "</div>"
       ],
       "output_type": "pyout",
       "prompt_number": 4,
       "text": [
        "               A          B          C          D\n",
        "count  10.000000  10.000000  10.000000  10.000000\n",
        "mean    0.217333  -0.228507  -0.359507   0.570384\n",
        "std     0.921869   1.408728   0.544064   1.135067\n",
        "min    -0.609431  -2.562772  -1.031559  -1.105214\n",
        "25%    -0.516540  -1.278546  -0.711475   0.056962\n",
        "50%    -0.281634   0.113618  -0.437548   0.704941\n",
        "75%     0.918297   0.879528  -0.325526   1.022107\n",
        "max     1.953887   1.230298   0.821051   2.823595"
       ]
      }
     ],
     "prompt_number": 4
    },
    {
     "cell_type": "code",
     "collapsed": false,
     "input": [
      "df.mean()"
     ],
     "language": "python",
     "metadata": {},
     "outputs": [
      {
       "output_type": "pyout",
       "prompt_number": 5,
       "text": [
        "A    0.217333\n",
        "B   -0.228507\n",
        "C   -0.359507\n",
        "D    0.570384\n",
        "dtype: float64"
       ]
      }
     ],
     "prompt_number": 5
    },
    {
     "cell_type": "code",
     "collapsed": false,
     "input": [
      "df.sort(columns='B')"
     ],
     "language": "python",
     "metadata": {},
     "outputs": [
      {
       "html": [
        "<div style=\"max-height:1000px;max-width:1500px;overflow:auto;\">\n",
        "<table border=\"1\" class=\"dataframe\">\n",
        "  <thead>\n",
        "    <tr style=\"text-align: right;\">\n",
        "      <th></th>\n",
        "      <th>A</th>\n",
        "      <th>B</th>\n",
        "      <th>C</th>\n",
        "      <th>D</th>\n",
        "    </tr>\n",
        "  </thead>\n",
        "  <tbody>\n",
        "    <tr>\n",
        "      <th>2013-01-05</th>\n",
        "      <td>-0.552321</td>\n",
        "      <td>-2.562772</td>\n",
        "      <td>-0.415050</td>\n",
        "      <td> 0.621670</td>\n",
        "    </tr>\n",
        "    <tr>\n",
        "      <th>2013-01-03</th>\n",
        "      <td>-0.589671</td>\n",
        "      <td>-2.178574</td>\n",
        "      <td>-0.391573</td>\n",
        "      <td> 1.085701</td>\n",
        "    </tr>\n",
        "    <tr>\n",
        "      <th>2013-01-06</th>\n",
        "      <td>-0.315820</td>\n",
        "      <td>-1.638820</td>\n",
        "      <td>-0.656623</td>\n",
        "      <td> 1.180301</td>\n",
        "    </tr>\n",
        "    <tr>\n",
        "      <th>2013-01-10</th>\n",
        "      <td>-0.247449</td>\n",
        "      <td>-0.197723</td>\n",
        "      <td>-0.729758</td>\n",
        "      <td> 0.604989</td>\n",
        "    </tr>\n",
        "    <tr>\n",
        "      <th>2013-01-01</th>\n",
        "      <td>-0.609431</td>\n",
        "      <td>-0.026244</td>\n",
        "      <td> 0.302535</td>\n",
        "      <td> 0.788212</td>\n",
        "    </tr>\n",
        "    <tr>\n",
        "      <th>2013-01-07</th>\n",
        "      <td> 0.950772</td>\n",
        "      <td> 0.253480</td>\n",
        "      <td>-0.460045</td>\n",
        "      <td>-1.105214</td>\n",
        "    </tr>\n",
        "    <tr>\n",
        "      <th>2013-01-04</th>\n",
        "      <td>-0.409200</td>\n",
        "      <td> 0.750085</td>\n",
        "      <td> 0.821051</td>\n",
        "      <td>-1.001029</td>\n",
        "    </tr>\n",
        "    <tr>\n",
        "      <th>2013-01-02</th>\n",
        "      <td> 1.171689</td>\n",
        "      <td> 0.922676</td>\n",
        "      <td>-0.303511</td>\n",
        "      <td>-0.125714</td>\n",
        "    </tr>\n",
        "    <tr>\n",
        "      <th>2013-01-09</th>\n",
        "      <td> 1.953887</td>\n",
        "      <td> 1.162521</td>\n",
        "      <td>-1.031559</td>\n",
        "      <td> 2.823595</td>\n",
        "    </tr>\n",
        "    <tr>\n",
        "      <th>2013-01-08</th>\n",
        "      <td> 0.820871</td>\n",
        "      <td> 1.230298</td>\n",
        "      <td>-0.730536</td>\n",
        "      <td> 0.831324</td>\n",
        "    </tr>\n",
        "  </tbody>\n",
        "</table>\n",
        "</div>"
       ],
       "output_type": "pyout",
       "prompt_number": 6,
       "text": [
        "                   A         B         C         D\n",
        "2013-01-05 -0.552321 -2.562772 -0.415050  0.621670\n",
        "2013-01-03 -0.589671 -2.178574 -0.391573  1.085701\n",
        "2013-01-06 -0.315820 -1.638820 -0.656623  1.180301\n",
        "2013-01-10 -0.247449 -0.197723 -0.729758  0.604989\n",
        "2013-01-01 -0.609431 -0.026244  0.302535  0.788212\n",
        "2013-01-07  0.950772  0.253480 -0.460045 -1.105214\n",
        "2013-01-04 -0.409200  0.750085  0.821051 -1.001029\n",
        "2013-01-02  1.171689  0.922676 -0.303511 -0.125714\n",
        "2013-01-09  1.953887  1.162521 -1.031559  2.823595\n",
        "2013-01-08  0.820871  1.230298 -0.730536  0.831324"
       ]
      }
     ],
     "prompt_number": 6
    },
    {
     "cell_type": "code",
     "collapsed": false,
     "input": [
      "df[df.A > 0]"
     ],
     "language": "python",
     "metadata": {},
     "outputs": [
      {
       "html": [
        "<div style=\"max-height:1000px;max-width:1500px;overflow:auto;\">\n",
        "<table border=\"1\" class=\"dataframe\">\n",
        "  <thead>\n",
        "    <tr style=\"text-align: right;\">\n",
        "      <th></th>\n",
        "      <th>A</th>\n",
        "      <th>B</th>\n",
        "      <th>C</th>\n",
        "      <th>D</th>\n",
        "    </tr>\n",
        "  </thead>\n",
        "  <tbody>\n",
        "    <tr>\n",
        "      <th>2013-01-02</th>\n",
        "      <td> 1.171689</td>\n",
        "      <td> 0.922676</td>\n",
        "      <td>-0.303511</td>\n",
        "      <td>-0.125714</td>\n",
        "    </tr>\n",
        "    <tr>\n",
        "      <th>2013-01-07</th>\n",
        "      <td> 0.950772</td>\n",
        "      <td> 0.253480</td>\n",
        "      <td>-0.460045</td>\n",
        "      <td>-1.105214</td>\n",
        "    </tr>\n",
        "    <tr>\n",
        "      <th>2013-01-08</th>\n",
        "      <td> 0.820871</td>\n",
        "      <td> 1.230298</td>\n",
        "      <td>-0.730536</td>\n",
        "      <td> 0.831324</td>\n",
        "    </tr>\n",
        "    <tr>\n",
        "      <th>2013-01-09</th>\n",
        "      <td> 1.953887</td>\n",
        "      <td> 1.162521</td>\n",
        "      <td>-1.031559</td>\n",
        "      <td> 2.823595</td>\n",
        "    </tr>\n",
        "  </tbody>\n",
        "</table>\n",
        "</div>"
       ],
       "output_type": "pyout",
       "prompt_number": 7,
       "text": [
        "                   A         B         C         D\n",
        "2013-01-02  1.171689  0.922676 -0.303511 -0.125714\n",
        "2013-01-07  0.950772  0.253480 -0.460045 -1.105214\n",
        "2013-01-08  0.820871  1.230298 -0.730536  0.831324\n",
        "2013-01-09  1.953887  1.162521 -1.031559  2.823595"
       ]
      }
     ],
     "prompt_number": 7
    },
    {
     "cell_type": "code",
     "collapsed": false,
     "input": [],
     "language": "python",
     "metadata": {},
     "outputs": [],
     "prompt_number": 7
    },
    {
     "cell_type": "code",
     "collapsed": false,
     "input": [
      "df.A.plot()"
     ],
     "language": "python",
     "metadata": {},
     "outputs": [
      {
       "output_type": "pyout",
       "prompt_number": 8,
       "text": [
        "<matplotlib.axes.AxesSubplot at 0x10cc1ccd0>"
       ]
      },
      {
       "output_type": "display_data",
       "png": "[encoded data removed]",
       "text": [
        "<matplotlib.figure.Figure at 0x10bd5e0d0>"
       ]
      }
     ],
     "prompt_number": 8
    },
    {
     "cell_type": "code",
     "collapsed": false,
     "input": [
      "df.plot()"
     ],
     "language": "python",
     "metadata": {},
     "outputs": [
      {
       "output_type": "pyout",
       "prompt_number": 9,
       "text": [
        "<matplotlib.axes.AxesSubplot at 0x10cc53190>"
       ]
      },
      {
       "output_type": "display_data",
       "png": "[encoded data removed]",
       "text": [
        "<matplotlib.figure.Figure at 0x10cc571d0>"
       ]
      }
     ],
     "prompt_number": 9
    },
    {
     "cell_type": "code",
     "collapsed": false,
     "input": [],
     "language": "python",
     "metadata": {},
     "outputs": [],
     "prompt_number": 9
    },
    {
     "cell_type": "code",
     "collapsed": false,
     "input": [],
     "language": "python",
     "metadata": {},
     "outputs": [],
     "prompt_number": 9
    }
   ],
   "metadata": {}
  }
 ]
}